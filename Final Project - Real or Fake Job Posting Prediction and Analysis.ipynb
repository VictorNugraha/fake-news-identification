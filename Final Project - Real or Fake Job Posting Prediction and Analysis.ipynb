{
 "cells": [
  {
   "cell_type": "markdown",
   "metadata": {},
   "source": [
    "# Final Project"
   ]
  },
  {
   "cell_type": "markdown",
   "metadata": {},
   "source": [
    "## Real or Fake Job Posting Prediction and Analysis\n",
    "\n",
    "This dataset contains 18K job descriptions out of which about 800 are fake. The data consists of both textual information and meta-information about the jobs. The dataset can be used to create classification models which can learn the job descriptions which are fraudulent.\n",
    "\n",
    "        1. ob_idUnique Job ID\n",
    "        2. titleThe title of the job ad entry.\n",
    "        3. locationGeographical location of the job ad.\n",
    "        4. departmentCorporate department (e.g. sales).\n",
    "        5. salary_rangeIndicative salary range (e.g. $50,000-$60,000)\n",
    "        6. company_profileA brief company description.\n",
    "        7. descriptionThe details description of the job ad.\n",
    "        8. requirementsEnlisted requirements for the job opening.\n",
    "        9. benefitsEnlisted offered benefits by the employer.\n",
    "        10. telecommutingTrue for telecommuting positions.\n",
    "        11. has_company_logoTrue if company logo is present.\n",
    "        12. has_questionsTrue if screening questions are present.\n",
    "        13. employment_typeFull-type, Part-time, Contract, etc.\n",
    "        14. required_experienceExecutive, Entry level, Intern, etc.\n",
    "        15. required_educationDoctorate, Master’s Degree, Bachelor, etc.\n",
    "        16. industryAutomotive, IT, Health care, Real estate, etc.\n",
    "        17. functionConsulting, Engineering, Research, Sales etc.\n",
    "        18. fraudulenttarget - Classification attribute.\n",
    "\n",
    "\n",
    "##### Acknowledgements\n",
    "The University of the Aegean | Laboratory of Information & Communication Systems Security\n",
    "http://emscad.samos.aegean.gr/"
   ]
  },
  {
   "cell_type": "markdown",
   "metadata": {},
   "source": [
    "### Task\n",
    "\n",
    "1. Build a model which capable to identify wether the job posting is Real or Fake!\n",
    "2. Analyze the given data, in order to give an insight or suggestion to any applicants!\n",
    "\n",
    "#### Questions\n",
    "1. From the meta-information about the job, please identify what information is the most influental meta-information in order to classify wether the job posting is real or fake!\n",
    "2. Top 10 most wanted job funtion!\n",
    "3. According top 10 most wanted job function, please identfy total employment type!\n",
    "4. What is the minimum required education?\n",
    "5. Identify total job demand from the corellation based on Minimum Education and Minimum Experience!"
   ]
  },
  {
   "cell_type": "markdown",
   "metadata": {},
   "source": [
    "### Wrangle"
   ]
  },
  {
   "cell_type": "code",
   "execution_count": 64,
   "metadata": {},
   "outputs": [],
   "source": [
    "# 1. Import Libraries\n",
    "\n",
    "import pandas as pd\n",
    "import numpy as np\n",
    "import seaborn as sns\n",
    "import matplotlib.pyplot as plt\n",
    "import sklearn\n",
    "import imblearn\n",
    "\n",
    "from sklearn.model_selection import train_test_split\n",
    "from sklearn.linear_model import LinearRegression, LogisticRegression\n",
    "from sklearn.preprocessing import StandardScaler, MinMaxScaler\n",
    "from imblearn.over_sampling import SMOTE\n",
    "from sklearn import metrics\n",
    "from sklearn import datasets\n",
    "\n",
    "# 2. Import Data Set\n",
    "\n",
    "job = pd.read_csv('/home/victor/Desktop/fake_job_postings.csv')\n",
    "\n",
    "# 3. Fill NaN Value in employment_type\n",
    "\n",
    "job['employment_type'].fillna('Other', inplace = True)\n",
    "\n",
    "# 4. Fill NaN Value in required_education\n",
    "\n",
    "job['required_education'].fillna('Unspecified', inplace = True)\n",
    "\n",
    "# 4. Fill NaN Value in required_experience\n",
    "\n",
    "job['required_experience'].fillna('Other', inplace = True)"
   ]
  },
  {
   "cell_type": "code",
   "execution_count": 65,
   "metadata": {},
   "outputs": [
    {
     "data": {
      "text/html": [
       "<div>\n",
       "<style scoped>\n",
       "    .dataframe tbody tr th:only-of-type {\n",
       "        vertical-align: middle;\n",
       "    }\n",
       "\n",
       "    .dataframe tbody tr th {\n",
       "        vertical-align: top;\n",
       "    }\n",
       "\n",
       "    .dataframe thead th {\n",
       "        text-align: right;\n",
       "    }\n",
       "</style>\n",
       "<table border=\"1\" class=\"dataframe\">\n",
       "  <thead>\n",
       "    <tr style=\"text-align: right;\">\n",
       "      <th></th>\n",
       "      <th>job_id</th>\n",
       "      <th>title</th>\n",
       "      <th>location</th>\n",
       "      <th>department</th>\n",
       "      <th>salary_range</th>\n",
       "      <th>company_profile</th>\n",
       "      <th>description</th>\n",
       "      <th>requirements</th>\n",
       "      <th>benefits</th>\n",
       "      <th>telecommuting</th>\n",
       "      <th>has_company_logo</th>\n",
       "      <th>has_questions</th>\n",
       "      <th>employment_type</th>\n",
       "      <th>required_experience</th>\n",
       "      <th>required_education</th>\n",
       "      <th>industry</th>\n",
       "      <th>function</th>\n",
       "      <th>fraudulent</th>\n",
       "    </tr>\n",
       "  </thead>\n",
       "  <tbody>\n",
       "    <tr>\n",
       "      <th>0</th>\n",
       "      <td>1</td>\n",
       "      <td>Marketing Intern</td>\n",
       "      <td>US, NY, New York</td>\n",
       "      <td>Marketing</td>\n",
       "      <td>NaN</td>\n",
       "      <td>We're Food52, and we've created a groundbreaki...</td>\n",
       "      <td>Food52, a fast-growing, James Beard Award-winn...</td>\n",
       "      <td>Experience with content management systems a m...</td>\n",
       "      <td>NaN</td>\n",
       "      <td>0</td>\n",
       "      <td>1</td>\n",
       "      <td>0</td>\n",
       "      <td>Other</td>\n",
       "      <td>Internship</td>\n",
       "      <td>Unspecified</td>\n",
       "      <td>NaN</td>\n",
       "      <td>Marketing</td>\n",
       "      <td>0</td>\n",
       "    </tr>\n",
       "    <tr>\n",
       "      <th>1</th>\n",
       "      <td>2</td>\n",
       "      <td>Customer Service - Cloud Video Production</td>\n",
       "      <td>NZ, , Auckland</td>\n",
       "      <td>Success</td>\n",
       "      <td>NaN</td>\n",
       "      <td>90 Seconds, the worlds Cloud Video Production ...</td>\n",
       "      <td>Organised - Focused - Vibrant - Awesome!Do you...</td>\n",
       "      <td>What we expect from you:Your key responsibilit...</td>\n",
       "      <td>What you will get from usThrough being part of...</td>\n",
       "      <td>0</td>\n",
       "      <td>1</td>\n",
       "      <td>0</td>\n",
       "      <td>Full-time</td>\n",
       "      <td>Not Applicable</td>\n",
       "      <td>Unspecified</td>\n",
       "      <td>Marketing and Advertising</td>\n",
       "      <td>Customer Service</td>\n",
       "      <td>0</td>\n",
       "    </tr>\n",
       "    <tr>\n",
       "      <th>2</th>\n",
       "      <td>3</td>\n",
       "      <td>Commissioning Machinery Assistant (CMA)</td>\n",
       "      <td>US, IA, Wever</td>\n",
       "      <td>NaN</td>\n",
       "      <td>NaN</td>\n",
       "      <td>Valor Services provides Workforce Solutions th...</td>\n",
       "      <td>Our client, located in Houston, is actively se...</td>\n",
       "      <td>Implement pre-commissioning and commissioning ...</td>\n",
       "      <td>NaN</td>\n",
       "      <td>0</td>\n",
       "      <td>1</td>\n",
       "      <td>0</td>\n",
       "      <td>Other</td>\n",
       "      <td>Other</td>\n",
       "      <td>Unspecified</td>\n",
       "      <td>NaN</td>\n",
       "      <td>NaN</td>\n",
       "      <td>0</td>\n",
       "    </tr>\n",
       "    <tr>\n",
       "      <th>3</th>\n",
       "      <td>4</td>\n",
       "      <td>Account Executive - Washington DC</td>\n",
       "      <td>US, DC, Washington</td>\n",
       "      <td>Sales</td>\n",
       "      <td>NaN</td>\n",
       "      <td>Our passion for improving quality of life thro...</td>\n",
       "      <td>THE COMPANY: ESRI – Environmental Systems Rese...</td>\n",
       "      <td>EDUCATION: Bachelor’s or Master’s in GIS, busi...</td>\n",
       "      <td>Our culture is anything but corporate—we have ...</td>\n",
       "      <td>0</td>\n",
       "      <td>1</td>\n",
       "      <td>0</td>\n",
       "      <td>Full-time</td>\n",
       "      <td>Mid-Senior level</td>\n",
       "      <td>Bachelor's Degree</td>\n",
       "      <td>Computer Software</td>\n",
       "      <td>Sales</td>\n",
       "      <td>0</td>\n",
       "    </tr>\n",
       "    <tr>\n",
       "      <th>4</th>\n",
       "      <td>5</td>\n",
       "      <td>Bill Review Manager</td>\n",
       "      <td>US, FL, Fort Worth</td>\n",
       "      <td>NaN</td>\n",
       "      <td>NaN</td>\n",
       "      <td>SpotSource Solutions LLC is a Global Human Cap...</td>\n",
       "      <td>JOB TITLE: Itemization Review ManagerLOCATION:...</td>\n",
       "      <td>QUALIFICATIONS:RN license in the State of Texa...</td>\n",
       "      <td>Full Benefits Offered</td>\n",
       "      <td>0</td>\n",
       "      <td>1</td>\n",
       "      <td>1</td>\n",
       "      <td>Full-time</td>\n",
       "      <td>Mid-Senior level</td>\n",
       "      <td>Bachelor's Degree</td>\n",
       "      <td>Hospital &amp; Health Care</td>\n",
       "      <td>Health Care Provider</td>\n",
       "      <td>0</td>\n",
       "    </tr>\n",
       "  </tbody>\n",
       "</table>\n",
       "</div>"
      ],
      "text/plain": [
       "   job_id                                      title            location  \\\n",
       "0       1                           Marketing Intern    US, NY, New York   \n",
       "1       2  Customer Service - Cloud Video Production      NZ, , Auckland   \n",
       "2       3    Commissioning Machinery Assistant (CMA)       US, IA, Wever   \n",
       "3       4          Account Executive - Washington DC  US, DC, Washington   \n",
       "4       5                        Bill Review Manager  US, FL, Fort Worth   \n",
       "\n",
       "  department salary_range                                    company_profile  \\\n",
       "0  Marketing          NaN  We're Food52, and we've created a groundbreaki...   \n",
       "1    Success          NaN  90 Seconds, the worlds Cloud Video Production ...   \n",
       "2        NaN          NaN  Valor Services provides Workforce Solutions th...   \n",
       "3      Sales          NaN  Our passion for improving quality of life thro...   \n",
       "4        NaN          NaN  SpotSource Solutions LLC is a Global Human Cap...   \n",
       "\n",
       "                                         description  \\\n",
       "0  Food52, a fast-growing, James Beard Award-winn...   \n",
       "1  Organised - Focused - Vibrant - Awesome!Do you...   \n",
       "2  Our client, located in Houston, is actively se...   \n",
       "3  THE COMPANY: ESRI – Environmental Systems Rese...   \n",
       "4  JOB TITLE: Itemization Review ManagerLOCATION:...   \n",
       "\n",
       "                                        requirements  \\\n",
       "0  Experience with content management systems a m...   \n",
       "1  What we expect from you:Your key responsibilit...   \n",
       "2  Implement pre-commissioning and commissioning ...   \n",
       "3  EDUCATION: Bachelor’s or Master’s in GIS, busi...   \n",
       "4  QUALIFICATIONS:RN license in the State of Texa...   \n",
       "\n",
       "                                            benefits  telecommuting  \\\n",
       "0                                                NaN              0   \n",
       "1  What you will get from usThrough being part of...              0   \n",
       "2                                                NaN              0   \n",
       "3  Our culture is anything but corporate—we have ...              0   \n",
       "4                              Full Benefits Offered              0   \n",
       "\n",
       "   has_company_logo  has_questions employment_type required_experience  \\\n",
       "0                 1              0           Other          Internship   \n",
       "1                 1              0       Full-time      Not Applicable   \n",
       "2                 1              0           Other               Other   \n",
       "3                 1              0       Full-time    Mid-Senior level   \n",
       "4                 1              1       Full-time    Mid-Senior level   \n",
       "\n",
       "  required_education                   industry              function  \\\n",
       "0        Unspecified                        NaN             Marketing   \n",
       "1        Unspecified  Marketing and Advertising      Customer Service   \n",
       "2        Unspecified                        NaN                   NaN   \n",
       "3  Bachelor's Degree          Computer Software                 Sales   \n",
       "4  Bachelor's Degree     Hospital & Health Care  Health Care Provider   \n",
       "\n",
       "   fraudulent  \n",
       "0           0  \n",
       "1           0  \n",
       "2           0  \n",
       "3           0  \n",
       "4           0  "
      ]
     },
     "execution_count": 65,
     "metadata": {},
     "output_type": "execute_result"
    }
   ],
   "source": [
    "job.head()"
   ]
  },
  {
   "cell_type": "markdown",
   "metadata": {},
   "source": [
    "### Explore "
   ]
  },
  {
   "cell_type": "markdown",
   "metadata": {},
   "source": [
    "1. From the meta-information about the job, please identify what information is the most influental in order to classify wether the job posting is real or fake!"
   ]
  },
  {
   "cell_type": "code",
   "execution_count": 28,
   "metadata": {},
   "outputs": [
    {
     "name": "stdout",
     "output_type": "stream",
     "text": [
      "Accuracy Score: 0.8092841163310962\n",
      "Recall Score: 0.6405228758169934\n",
      "TN: 2796\n",
      "FP: 627\n",
      "FN: 55\n",
      "TP: 98\n"
     ]
    }
   ],
   "source": [
    "# Import data set\n",
    "job = pd.read_csv('/home/victor/Desktop/fake_job_postings.csv')\n",
    "\n",
    "# Drop unecerssary columns\n",
    "job = job.drop(columns=['job_id', 'title', 'location', 'department', 'salary_range', 'company_profile', 'description', 'requirements', 'benefits', 'employment_type', 'required_experience', 'required_education', 'industry', 'function'])\n",
    "\n",
    "# Separate the independent variables (x) and dependent variables (y)\n",
    "x = job.drop(columns={'fraudulent'})\n",
    "y = job['fraudulent']\n",
    "\n",
    "# Encode the Research column using One Hot Encoding\n",
    "x = pd.get_dummies(x, columns=['telecommuting', 'has_company_logo', 'has_questions'])\n",
    "\n",
    "# Split the data into training data and testing data\n",
    "x_train, x_test, y_train, y_test = train_test_split(x, y, test_size=0.2, random_state=1)\n",
    "\n",
    "# Upsampling minority data using SMOTE\n",
    "smt = SMOTE()\n",
    "x_train, y_train = smt.fit_sample(x_train, y_train)\n",
    "\n",
    "# Initiate the model and train it\n",
    "model = LogisticRegression()\n",
    "model.fit(x_train, y_train)\n",
    "\n",
    "# Testing and evaluation\n",
    "y_pred = model.predict(x_test)\n",
    "\n",
    "# Accuracy\n",
    "accuracy = metrics.accuracy_score(y_test, y_pred)\n",
    "print('Accuracy Score: {}'.format(accuracy))\n",
    "\n",
    "# Recall\n",
    "accuracy = metrics.recall_score(y_test, y_pred)\n",
    "print('Recall Score: {}'.format(accuracy))\n",
    "\n",
    "# Confusion\n",
    "tn, fp, fn, tp = metrics.confusion_matrix(y_test, y_pred).ravel()\n",
    "print('TN: {}'.format(tn))\n",
    "print('FP: {}'.format(fp))\n",
    "print('FN: {}'.format(fn))\n",
    "print('TP: {}'.format(tp))"
   ]
  },
  {
   "cell_type": "code",
   "execution_count": 35,
   "metadata": {},
   "outputs": [
    {
     "data": {
      "text/plain": [
       "array([13591, 13591])"
      ]
     },
     "execution_count": 35,
     "metadata": {},
     "output_type": "execute_result"
    }
   ],
   "source": [
    "# Identify total y_train\n",
    "\n",
    "np.bincount(y_train)"
   ]
  },
  {
   "cell_type": "code",
   "execution_count": 36,
   "metadata": {},
   "outputs": [
    {
     "data": {
      "text/plain": [
       "<matplotlib.axes._subplots.AxesSubplot at 0x7fe78e2d7bd0>"
      ]
     },
     "execution_count": 36,
     "metadata": {},
     "output_type": "execute_result"
    },
    {
     "data": {
      "image/png": "[encoded data removed]",
      "text/plain": [
       "<Figure size 432x288 with 1 Axes>"
      ]
     },
     "metadata": {
      "needs_background": "light"
     },
     "output_type": "display_data"
    }
   ],
   "source": [
    "# Most influental meta-inforamation based on coef\n",
    "\n",
    "coef = pd.DataFrame({'columns': x.columns.tolist(),\n",
    "                     'coefficient': model.coef_[0].tolist()})\n",
    "\n",
    "coef = coef.sort_values('coefficient')\n",
    "\n",
    "coef.plot(x='columns', y='coefficient', kind='barh')"
   ]
  },
  {
   "cell_type": "markdown",
   "metadata": {},
   "source": [
    "2. Top 10 most wanted job funtion!"
   ]
  },
  {
   "cell_type": "code",
   "execution_count": 140,
   "metadata": {
    "scrolled": true
   },
   "outputs": [
    {
     "data": {
      "image/png": "[encoded data removed]",
      "text/plain": [
       "<Figure size 1080x360 with 1 Axes>"
      ]
     },
     "metadata": {
      "needs_background": "light"
     },
     "output_type": "display_data"
    }
   ],
   "source": [
    "top10_job = job.groupby('function', as_index=False)['job_id'] \\\n",
    "               .count() \\\n",
    "               .sort_values('job_id', ascending=False) \\\n",
    "               .rename(columns={'job_id': 'total'}) \\\n",
    "               .head(10)\n",
    "\n",
    "plt.figure(figsize=(15,5))\n",
    "viz = sns.barplot(data=top10_job, x='function', y='total')\n",
    "plt.title('Top 10 Most Wanted Job Function')\n",
    "plt.xlabel('Job Function')\n",
    "plt.ylabel('Total')\n",
    "plt.show()"
   ]
  },
  {
   "cell_type": "code",
   "execution_count": 165,
   "metadata": {},
   "outputs": [
    {
     "data": {
      "text/html": [
       "<div>\n",
       "<style scoped>\n",
       "    .dataframe tbody tr th:only-of-type {\n",
       "        vertical-align: middle;\n",
       "    }\n",
       "\n",
       "    .dataframe tbody tr th {\n",
       "        vertical-align: top;\n",
       "    }\n",
       "\n",
       "    .dataframe thead th {\n",
       "        text-align: right;\n",
       "    }\n",
       "</style>\n",
       "<table border=\"1\" class=\"dataframe\">\n",
       "  <thead>\n",
       "    <tr style=\"text-align: right;\">\n",
       "      <th></th>\n",
       "      <th>Job Function</th>\n",
       "      <th>Total</th>\n",
       "    </tr>\n",
       "  </thead>\n",
       "  <tbody>\n",
       "    <tr>\n",
       "      <th>18</th>\n",
       "      <td>Information Technology</td>\n",
       "      <td>1749</td>\n",
       "    </tr>\n",
       "    <tr>\n",
       "      <th>31</th>\n",
       "      <td>Sales</td>\n",
       "      <td>1468</td>\n",
       "    </tr>\n",
       "    <tr>\n",
       "      <th>12</th>\n",
       "      <td>Engineering</td>\n",
       "      <td>1348</td>\n",
       "    </tr>\n",
       "    <tr>\n",
       "      <th>7</th>\n",
       "      <td>Customer Service</td>\n",
       "      <td>1229</td>\n",
       "    </tr>\n",
       "    <tr>\n",
       "      <th>22</th>\n",
       "      <td>Marketing</td>\n",
       "      <td>830</td>\n",
       "    </tr>\n",
       "    <tr>\n",
       "      <th>1</th>\n",
       "      <td>Administrative</td>\n",
       "      <td>630</td>\n",
       "    </tr>\n",
       "    <tr>\n",
       "      <th>9</th>\n",
       "      <td>Design</td>\n",
       "      <td>340</td>\n",
       "    </tr>\n",
       "    <tr>\n",
       "      <th>16</th>\n",
       "      <td>Health Care Provider</td>\n",
       "      <td>338</td>\n",
       "    </tr>\n",
       "    <tr>\n",
       "      <th>23</th>\n",
       "      <td>Other</td>\n",
       "      <td>325</td>\n",
       "    </tr>\n",
       "    <tr>\n",
       "      <th>11</th>\n",
       "      <td>Education</td>\n",
       "      <td>325</td>\n",
       "    </tr>\n",
       "  </tbody>\n",
       "</table>\n",
       "</div>"
      ],
      "text/plain": [
       "              Job Function  Total\n",
       "18  Information Technology   1749\n",
       "31                   Sales   1468\n",
       "12             Engineering   1348\n",
       "7         Customer Service   1229\n",
       "22               Marketing    830\n",
       "1           Administrative    630\n",
       "9                   Design    340\n",
       "16    Health Care Provider    338\n",
       "23                   Other    325\n",
       "11               Education    325"
      ]
     },
     "execution_count": 165,
     "metadata": {},
     "output_type": "execute_result"
    }
   ],
   "source": [
    "top10_job = job.groupby('function', as_index=False)['job_id'] \\\n",
    "               .count() \\\n",
    "               .sort_values('job_id', ascending=False) \\\n",
    "               .rename(columns={'job_id': 'Total',\n",
    "                                'function': 'Job Function'}) \\\n",
    "               .head(10)\n",
    "\n",
    "top10_job"
   ]
  },
  {
   "cell_type": "markdown",
   "metadata": {},
   "source": [
    "3. According top 10 most wanted job function, please identfy total employment type!"
   ]
  },
  {
   "cell_type": "code",
   "execution_count": 173,
   "metadata": {
    "scrolled": true
   },
   "outputs": [
    {
     "data": {
      "image/png": "[encoded data removed]",
      "text/plain": [
       "<Figure size 1008x360 with 1 Axes>"
      ]
     },
     "metadata": {
      "needs_background": "light"
     },
     "output_type": "display_data"
    }
   ],
   "source": [
    "job = pd.read_csv('/home/victor/Desktop/fake_job_postings.csv')\n",
    "\n",
    "job['employment_type'].fillna('Other', inplace = True)\n",
    "\n",
    "job = job[job['function'].isin(list(top10_job['Job Function']))]\n",
    "\n",
    "employment_ = job.groupby(['function', 'employment_type'], as_index=False)['job_id'] \\\n",
    "                .count() \\\n",
    "                .sort_values('job_id', ascending=False) \\\n",
    "                .rename(columns={'job_id': 'total_demand'})\n",
    "\n",
    "\n",
    "plt.figure (figsize=(14,5))\n",
    "viz = sns.barplot(data=employment_, x='function', y='total_demand', hue='employment_type', palette=sns.color_palette(\"BrBG\", 7))\n",
    "plt.legend(bbox_to_anchor=(1.05, 1), loc=2, borderaxespad=0.)\n",
    "plt.title('Total Employment Type Position In Each Job Function')\n",
    "plt.xlabel('Job Function')\n",
    "plt.ylabel('Total Demands')\n",
    "plt.show()"
   ]
  },
  {
   "cell_type": "markdown",
   "metadata": {},
   "source": [
    "4. What is the minimum required education?"
   ]
  },
  {
   "cell_type": "code",
   "execution_count": 152,
   "metadata": {},
   "outputs": [
    {
     "data": {
      "text/html": [
       "<div>\n",
       "<style scoped>\n",
       "    .dataframe tbody tr th:only-of-type {\n",
       "        vertical-align: middle;\n",
       "    }\n",
       "\n",
       "    .dataframe tbody tr th {\n",
       "        vertical-align: top;\n",
       "    }\n",
       "\n",
       "    .dataframe thead th {\n",
       "        text-align: right;\n",
       "    }\n",
       "</style>\n",
       "<table border=\"1\" class=\"dataframe\">\n",
       "  <thead>\n",
       "    <tr style=\"text-align: right;\">\n",
       "      <th></th>\n",
       "      <th>Minimum Education</th>\n",
       "      <th>Total Demand</th>\n",
       "    </tr>\n",
       "  </thead>\n",
       "  <tbody>\n",
       "    <tr>\n",
       "      <th>9</th>\n",
       "      <td>Unspecified</td>\n",
       "      <td>9502</td>\n",
       "    </tr>\n",
       "    <tr>\n",
       "      <th>1</th>\n",
       "      <td>Bachelor's Degree</td>\n",
       "      <td>5145</td>\n",
       "    </tr>\n",
       "    <tr>\n",
       "      <th>4</th>\n",
       "      <td>High School or equivalent</td>\n",
       "      <td>2080</td>\n",
       "    </tr>\n",
       "    <tr>\n",
       "      <th>5</th>\n",
       "      <td>Master's Degree</td>\n",
       "      <td>416</td>\n",
       "    </tr>\n",
       "    <tr>\n",
       "      <th>0</th>\n",
       "      <td>Associate Degree</td>\n",
       "      <td>274</td>\n",
       "    </tr>\n",
       "  </tbody>\n",
       "</table>\n",
       "</div>"
      ],
      "text/plain": [
       "           Minimum Education  Total Demand\n",
       "9                Unspecified          9502\n",
       "1          Bachelor's Degree          5145\n",
       "4  High School or equivalent          2080\n",
       "5            Master's Degree           416\n",
       "0           Associate Degree           274"
      ]
     },
     "execution_count": 152,
     "metadata": {},
     "output_type": "execute_result"
    }
   ],
   "source": [
    "job = pd.read_csv('/home/victor/Desktop/fake_job_postings.csv')\n",
    "\n",
    "job['required_education'].fillna('Unspecified', inplace = True)\n",
    "\n",
    "job.groupby('required_education', as_index=False)['job_id'] \\\n",
    "   .count() \\\n",
    "   .sort_values('job_id', ascending=False) \\\n",
    "   .rename(columns={'job_id': 'Total Demand',\n",
    "                    'required_education': 'Minimum Education'}) \\\n",
    "   .head()"
   ]
  },
  {
   "cell_type": "markdown",
   "metadata": {},
   "source": [
    "5. Identify total job demand from the corellation based on Minimum Education and Minimum Experience!"
   ]
  },
  {
   "cell_type": "code",
   "execution_count": 161,
   "metadata": {
    "scrolled": true
   },
   "outputs": [
    {
     "data": {
      "text/html": [
       "<div>\n",
       "<style scoped>\n",
       "    .dataframe tbody tr th:only-of-type {\n",
       "        vertical-align: middle;\n",
       "    }\n",
       "\n",
       "    .dataframe tbody tr th {\n",
       "        vertical-align: top;\n",
       "    }\n",
       "\n",
       "    .dataframe thead th {\n",
       "        text-align: right;\n",
       "    }\n",
       "</style>\n",
       "<table border=\"1\" class=\"dataframe\">\n",
       "  <thead>\n",
       "    <tr style=\"text-align: right;\">\n",
       "      <th></th>\n",
       "      <th>Minimum Education</th>\n",
       "      <th>Minimum Experience</th>\n",
       "      <th>Total Demand</th>\n",
       "    </tr>\n",
       "  </thead>\n",
       "  <tbody>\n",
       "    <tr>\n",
       "      <th>71</th>\n",
       "      <td>Unspecified</td>\n",
       "      <td>Other</td>\n",
       "      <td>5856</td>\n",
       "    </tr>\n",
       "    <tr>\n",
       "      <th>13</th>\n",
       "      <td>Bachelor's Degree</td>\n",
       "      <td>Mid-Senior level</td>\n",
       "      <td>1994</td>\n",
       "    </tr>\n",
       "    <tr>\n",
       "      <th>69</th>\n",
       "      <td>Unspecified</td>\n",
       "      <td>Mid-Senior level</td>\n",
       "      <td>1382</td>\n",
       "    </tr>\n",
       "    <tr>\n",
       "      <th>31</th>\n",
       "      <td>High School or equivalent</td>\n",
       "      <td>Entry level</td>\n",
       "      <td>1193</td>\n",
       "    </tr>\n",
       "    <tr>\n",
       "      <th>8</th>\n",
       "      <td>Bachelor's Degree</td>\n",
       "      <td>Associate</td>\n",
       "      <td>1021</td>\n",
       "    </tr>\n",
       "  </tbody>\n",
       "</table>\n",
       "</div>"
      ],
      "text/plain": [
       "            Minimum Education Minimum Experience  Total Demand\n",
       "71                Unspecified              Other          5856\n",
       "13          Bachelor's Degree   Mid-Senior level          1994\n",
       "69                Unspecified   Mid-Senior level          1382\n",
       "31  High School or equivalent        Entry level          1193\n",
       "8           Bachelor's Degree          Associate          1021"
      ]
     },
     "execution_count": 161,
     "metadata": {},
     "output_type": "execute_result"
    }
   ],
   "source": [
    "job = pd.read_csv('/home/victor/Desktop/fake_job_postings.csv')\n",
    "\n",
    "job['required_education'].fillna('Unspecified', inplace = True)\n",
    "job['required_experience'].fillna('Other', inplace = True)\n",
    "job['employment_type'].fillna('Other', inplace = True)\n",
    "\n",
    "job.groupby(['required_education', 'required_experience'], as_index=False)['job_id'] \\\n",
    "   .count() \\\n",
    "   .sort_values('job_id', ascending=False) \\\n",
    "   .rename(columns={'job_id': 'Total Demand',\n",
    "                    'required_education': 'Minimum Education',\n",
    "                    'required_experience': 'Minimum Experience'}) \\\n",
    "   .head()"
   ]
  },
  {
   "cell_type": "code",
   "execution_count": 179,
   "metadata": {},
   "outputs": [
    {
     "data": {
      "image/png": "[encoded data removed]",
      "text/plain": [
       "<Figure size 1008x360 with 1 Axes>"
      ]
     },
     "metadata": {
      "needs_background": "light"
     },
     "output_type": "display_data"
    }
   ],
   "source": [
    "job = pd.read_csv('/home/victor/Desktop/fake_job_postings.csv')\n",
    "\n",
    "job['required_education'].fillna('Unspecified', inplace = True)\n",
    "job['required_experience'].fillna('Other', inplace = True)\n",
    "job['employment_type'].fillna('Other', inplace = True)\n",
    "\n",
    "demand = job.groupby(['required_education', 'required_experience'], as_index=False)['job_id'] \\\n",
    "            .count() \\\n",
    "            .sort_values('job_id', ascending=False) \\\n",
    "            .rename(columns={'job_id': 'Total Demand',\n",
    "                            'required_education': 'Minimum Education',\n",
    "                            'required_experience': 'Minimum Experience'}) \\\n",
    "            .head(20)\n",
    "\n",
    "plt.figure(figsize=(14,5))\n",
    "viz = sns.barplot(data=demand, x='Minimum Education', y='Total Demand', hue='Minimum Experience', palette=(sns.color_palette(\"cubehelix\", 8)))\n",
    "plt.legend(bbox_to_anchor=(1.05, 1), loc=2, borderaxespad=0.)\n",
    "plt.title('Total Job Demand Based On The Corellation based on Minimum Education and Minimum Experience')\n",
    "plt.xlabel('Minimum Education')\n",
    "plt.show()"
   ]
  },
  {
   "cell_type": "markdown",
   "metadata": {},
   "source": [
    "### Conclusion"
   ]
  },
  {
   "cell_type": "markdown",
   "metadata": {},
   "source": [
    "1. From the coef diagram above, the most influential information in this classification model is wether <b><i><u>the company has logo or not</b></i></u>.\n",
    "The result from classification model to identify real or fake job posting we got:\n",
    "        - Accuracy Score: 0.8092841163310962\n",
    "        - Recall Score: 0.6405228758169934\n",
    "        - TN: 2796\n",
    "        - FP: 627\n",
    "        - FN: 55\n",
    "        - TP: 98\n",
    "\n",
    "2. <i>Top 10 job function</i> are:\n",
    "        1. Information Technology with the total job posting 1749.\n",
    "        2. Sales with the total job posting 1468.\n",
    "        3. Engineering with the total job posting 1348.\n",
    "        4. Customer Service with the total job posting 1229.\n",
    "        5. Marketing with the total job posting 830.\n",
    "        6. Administrative with the total job posting 630.\n",
    "        7. Design with the total job posting 340.\n",
    "        8. Health Care Provider with the total job posting 338.\n",
    "        9. Other with the total job posting 350.\n",
    "        10. Education with the total job posting 325.\n",
    "\n",
    "3. Based on <i>top 10 job function</i> most of the job is open for <b><i><u>Full-Time position</b></i></u>.\n",
    "\n",
    "\n",
    "4. Based on the table data analization above <b><u>9502</u> job posting <i><u>Unspecified</i></u> the minimum education level</b>, but on the second place we know that <b><u>5145</u> job posting required <i><u>Bachelor's Degree</i></u> as the <i>minimum education level</i>.\n",
    "    \n",
    "    \n",
    "5. There are <b><i><u>5856 (almost 1/3 from the total data)</b></i></u> job posting which do not specify the <i><b>minimum education</i></b> and <i><b>minimum experience</i></b>, those two parameters might be used as the new parameters to tuning the classification model in order to increase the accuracy score."
   ]
  }
 ],
 "metadata": {
  "kernelspec": {
   "display_name": "Python 3",
   "language": "python",
   "name": "python3"
  },
  "language_info": {
   "codemirror_mode": {
    "name": "ipython",
    "version": 3
   },
   "file_extension": ".py",
   "mimetype": "text/x-python",
   "name": "python",
   "nbconvert_exporter": "python",
   "pygments_lexer": "ipython3",
   "version": "3.7.4"
  }
 },
 "nbformat": 4,
 "nbformat_minor": 2
}
